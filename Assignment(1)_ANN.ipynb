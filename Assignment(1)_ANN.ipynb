{
  "nbformat": 4,
  "nbformat_minor": 0,
  "metadata": {
    "colab": {
      "provenance": []
    },
    "kernelspec": {
      "name": "python3",
      "display_name": "Python 3"
    },
    "language_info": {
      "name": "python"
    }
  },
  "cells": [
    {
      "cell_type": "code",
      "execution_count": null,
      "metadata": {
        "id": "n5vBN9NyeyE_"
      },
      "outputs": [],
      "source": [
        "import numpy as np\n"
      ]
    },
    {
      "cell_type": "code",
      "source": [
        "def tanh(x):\n",
        "  return (np.exp(x) - np.exp(-x)) / (np.exp(x) +np.exp(-x))\n",
        "\n"
      ],
      "metadata": {
        "id": "EE_Usc6nfxJ9"
      },
      "execution_count": null,
      "outputs": []
    },
    {
      "cell_type": "code",
      "source": [
        "def forward_pass(input_values, weight_values, bias_values):\n",
        "    net_h1 = weight_values['w1'] * input_values[0] + weight_values['w2'] * input_values[1] + bias_values['b1']\n",
        "    net_h2 = weight_values['w3'] * input_values[0] + weight_values['w4'] * input_values[1] + bias_values['b2']\n",
        "\n",
        "    out_h1 = tanh(net_h1)\n",
        "    out_h2 = tanh(net_h2)\n",
        "\n",
        "    net_o1 = weight_values['w5'] * out_h1 + weight_values['w6'] * out_h2\n",
        "    net_o2 = weight_values['w7'] * out_h1 + weight_values['w8'] * out_h2\n",
        "\n",
        "    out_o1 = tanh(net_o1)\n",
        "    out_o2 = tanh(net_o2)\n",
        "\n",
        "    return out_h1, out_h2, out_o1, out_o2"
      ],
      "metadata": {
        "id": "MAePpUHpngmv"
      },
      "execution_count": 29,
      "outputs": []
    },
    {
      "cell_type": "code",
      "source": [
        "input_values = np.array([0.05, 0.1])\n",
        "\n",
        "weight_values = {key: np.random.uniform(-0.5, 0.5) for key in ['w1', 'w2', 'w3', 'w4', 'w5', 'w6', 'w7', 'w8']}\n",
        "\n",
        "bias_values = {'b1': 0.5, 'b2': 0.7}\n"
      ],
      "metadata": {
        "id": "uC9fagJNhYOv"
      },
      "execution_count": 30,
      "outputs": []
    },
    {
      "cell_type": "code",
      "source": [
        "out_h1, out_h2, out_o1, out_o2 = forward_pass(input_values, weight_values, bias_values)\n",
        "\n",
        "print(\"Output Layer Outputs: o1={:.8f}, o2={:.8f}\".format(out_o1, out_o2))"
      ],
      "metadata": {
        "colab": {
          "base_uri": "https://localhost:8080/"
        },
        "id": "dryFRwzjjpe1",
        "outputId": "a42bc58e-21c5-455d-e796-0ba31635fab1"
      },
      "execution_count": 32,
      "outputs": [
        {
          "output_type": "stream",
          "name": "stdout",
          "text": [
            "Output Layer Outputs: o1=-0.11373332, o2=0.11907595\n"
          ]
        }
      ]
    },
    {
      "cell_type": "code",
      "source": [],
      "metadata": {
        "id": "fa5BpkQDkZ3h"
      },
      "execution_count": null,
      "outputs": []
    }
  ]
}